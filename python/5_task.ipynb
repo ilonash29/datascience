{
 "cells": [
  {
   "cell_type": "markdown",
   "id": "85755de8",
   "metadata": {},
   "source": [
    "# Самостоятельное задание #5\n",
    "\n",
    "\n",
    "### Задание 1\n",
    "\n",
    "Допишите функцию, которая принимает список, выбирает из него все элементы с четным индексом и возвращает их в виде списка."
   ]
  },
  {
   "cell_type": "code",
   "execution_count": 1,
   "id": "6ef6d9b3",
   "metadata": {},
   "outputs": [],
   "source": [
    "def parity_selection(obj):\n",
    "    output = []\n",
    "    for i in range(0, len(obj), 2):\n",
    "        output.append(obj[i])\n",
    "    return output"
   ]
  },
  {
   "cell_type": "markdown",
   "id": "443974c9",
   "metadata": {},
   "source": [
    "### Задание 2\n",
    "\n",
    "Допишите функцию, которая принимает список, выбирает из него все элементы, которые больше предыдущего и возвращает их в виде списка.\n"
   ]
  },
  {
   "cell_type": "code",
   "execution_count": 2,
   "id": "3a8cf925",
   "metadata": {},
   "outputs": [],
   "source": [
    "def selection_larger_numb(obj):\n",
    "    output = []\n",
    "    prev = obj[0]-1\n",
    "    for i in range(0, len(obj)):\n",
    "        if obj[i] > prev:\n",
    "            output.append(obj[i])\n",
    "        prev=obj[i]\n",
    "    return output"
   ]
  },
  {
   "cell_type": "markdown",
   "id": "34524ede",
   "metadata": {},
   "source": [
    "### Задание 3\n",
    "\n",
    "Допишите функцию, которая принимает список, меняет местами наибольший и наименьший элементы и возвращает этот список."
   ]
  },
  {
   "cell_type": "code",
   "execution_count": 3,
   "id": "34d2beae",
   "metadata": {},
   "outputs": [],
   "source": [
    "def swap_place(obj):\n",
    "    output = []\n",
    "    min=obj[0]\n",
    "    max=obj[0]\n",
    "    num1 = 0\n",
    "    num2 = 0\n",
    "    for i in range(0, len(obj)):\n",
    "        if obj[i] < min:\n",
    "            num1 = i\n",
    "            min = obj[i]\n",
    "        if obj[i] > max:\n",
    "            num2 = i\n",
    "            max = obj[i]\n",
    "        output.append(obj[i])\n",
    "    output[num1] = max\n",
    "    output[num2] = min\n",
    "    return output"
   ]
  }
 ],
 "metadata": {
  "kernelspec": {
   "display_name": "Python 3.9.0 64-bit",
   "language": "python",
   "name": "python3"
  },
  "language_info": {
   "codemirror_mode": {
    "name": "ipython",
    "version": 3
   },
   "file_extension": ".py",
   "mimetype": "text/x-python",
   "name": "python",
   "nbconvert_exporter": "python",
   "pygments_lexer": "ipython3",
   "version": "3.9.0"
  },
  "vscode": {
   "interpreter": {
    "hash": "f6c8f846148a3e4d140e6ddf63c190cff559dcf260a4a21539f0978f2b58638c"
   }
  }
 },
 "nbformat": 4,
 "nbformat_minor": 5
}
